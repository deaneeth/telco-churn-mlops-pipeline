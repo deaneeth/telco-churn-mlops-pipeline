{
 "cells": [
  {
   "cell_type": "markdown",
   "id": "30aac536",
   "metadata": {},
   "source": [
    "# Telco Churn Data Exploration\n",
    "\n",
    "This notebook explores the telco customer churn dataset to understand the data structure, identify patterns, and gain insights for feature engineering and modeling."
   ]
  },
  {
   "cell_type": "markdown",
   "id": "1dcc1428",
   "metadata": {},
   "source": [
    "## Import Required Libraries"
   ]
  },
  {
   "cell_type": "code",
   "execution_count": 3,
   "id": "1b7cd03c",
   "metadata": {},
   "outputs": [],
   "source": [
    "import pandas as pd\n",
    "import numpy as np\n",
    "import matplotlib.pyplot as plt\n",
    "import seaborn as sns\n",
    "import plotly.express as px\n",
    "import plotly.graph_objects as go\n",
    "from plotly.subplots import make_subplots\n",
    "import warnings\n",
    "\n",
    "# Configure display options\n",
    "pd.set_option('display.max_columns', None)\n",
    "pd.set_option('display.max_rows', 100)\n",
    "warnings.filterwarnings('ignore')\n",
    "\n",
    "# Set style for plots\n",
    "plt.style.use('seaborn-v0_8')\n",
    "sns.set_palette(\"husl\")"
   ]
  },
  {
   "cell_type": "markdown",
   "id": "989dfe52",
   "metadata": {},
   "source": [
    "## Load and Examine Data"
   ]
  },
  {
   "cell_type": "code",
   "execution_count": 6,
   "id": "47875932",
   "metadata": {},
   "outputs": [
    {
     "name": "stdout",
     "output_type": "stream",
     "text": [
      "❌ Dataset not found. Please ensure the data file is in the correct location.\n",
      "Expected location: data/raw/Telco-Customer-Churn.csv\n",
      "Creating sample structure for demonstration...\n"
     ]
    }
   ],
   "source": [
    "# Load the dataset\n",
    "# Note: Update the file path to your actual dataset location\n",
    "try:\n",
    "    df = pd.read_csv('data/raw/Telco-Customer-Churn.csv')\n",
    "    print(\"✅ Dataset loaded successfully!\")\n",
    "    print(f\"Dataset shape: {df.shape}\")\n",
    "except FileNotFoundError:\n",
    "    print(\"❌ Dataset not found. Please ensure the data file is in the correct location.\")\n",
    "    print(\"Expected location: data/raw/Telco-Customer-Churn.csv\")\n",
    "    # Create a sample dataset for demonstration\n",
    "    df = pd.DataFrame()\n",
    "    print(\"Creating sample structure for demonstration...\")"
   ]
  }
 ],
 "metadata": {
  "kernelspec": {
   "display_name": "base",
   "language": "python",
   "name": "python3"
  },
  "language_info": {
   "codemirror_mode": {
    "name": "ipython",
    "version": 3
   },
   "file_extension": ".py",
   "mimetype": "text/x-python",
   "name": "python",
   "nbconvert_exporter": "python",
   "pygments_lexer": "ipython3",
   "version": "3.13.5"
  }
 },
 "nbformat": 4,
 "nbformat_minor": 5
}
